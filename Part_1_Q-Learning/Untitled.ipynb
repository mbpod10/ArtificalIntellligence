{
 "cells": [
  {
   "cell_type": "code",
   "execution_count": null,
   "id": "f2226eec",
   "metadata": {},
   "outputs": [],
   "source": [
    "# /Users/brock/opt/anaconda3/envs/pyfinance/bin/python -m pip install lib-pybroker"
   ]
  },
  {
   "cell_type": "code",
   "execution_count": 2,
   "id": "7297653b",
   "metadata": {},
   "outputs": [
    {
     "name": "stdout",
     "output_type": "stream",
     "text": [
      "Loading bar data...\n",
      "[*********************100%***********************]  2 of 2 completed\n",
      "Loaded bar data: 0:00:00 \n",
      "\n"
     ]
    },
    {
     "data": {
      "text/html": [
       "<div>\n",
       "<style scoped>\n",
       "    .dataframe tbody tr th:only-of-type {\n",
       "        vertical-align: middle;\n",
       "    }\n",
       "\n",
       "    .dataframe tbody tr th {\n",
       "        vertical-align: top;\n",
       "    }\n",
       "\n",
       "    .dataframe thead th {\n",
       "        text-align: right;\n",
       "    }\n",
       "</style>\n",
       "<table border=\"1\" class=\"dataframe\">\n",
       "  <thead>\n",
       "    <tr style=\"text-align: right;\">\n",
       "      <th></th>\n",
       "      <th>date</th>\n",
       "      <th>symbol</th>\n",
       "      <th>open</th>\n",
       "      <th>high</th>\n",
       "      <th>low</th>\n",
       "      <th>close</th>\n",
       "      <th>volume</th>\n",
       "      <th>adj_close</th>\n",
       "    </tr>\n",
       "  </thead>\n",
       "  <tbody>\n",
       "    <tr>\n",
       "      <th>0</th>\n",
       "      <td>2021-03-01</td>\n",
       "      <td>AAPL</td>\n",
       "      <td>123.750000</td>\n",
       "      <td>127.930000</td>\n",
       "      <td>122.790001</td>\n",
       "      <td>127.790001</td>\n",
       "      <td>116307900</td>\n",
       "      <td>126.270065</td>\n",
       "    </tr>\n",
       "    <tr>\n",
       "      <th>1</th>\n",
       "      <td>2021-03-01</td>\n",
       "      <td>MSFT</td>\n",
       "      <td>235.899994</td>\n",
       "      <td>237.470001</td>\n",
       "      <td>233.149994</td>\n",
       "      <td>236.940002</td>\n",
       "      <td>25324000</td>\n",
       "      <td>232.742340</td>\n",
       "    </tr>\n",
       "    <tr>\n",
       "      <th>2</th>\n",
       "      <td>2021-03-02</td>\n",
       "      <td>AAPL</td>\n",
       "      <td>128.410004</td>\n",
       "      <td>128.720001</td>\n",
       "      <td>125.010002</td>\n",
       "      <td>125.120003</td>\n",
       "      <td>102260900</td>\n",
       "      <td>123.631821</td>\n",
       "    </tr>\n",
       "    <tr>\n",
       "      <th>3</th>\n",
       "      <td>2021-03-02</td>\n",
       "      <td>MSFT</td>\n",
       "      <td>237.009995</td>\n",
       "      <td>237.300003</td>\n",
       "      <td>233.449997</td>\n",
       "      <td>233.869995</td>\n",
       "      <td>22812500</td>\n",
       "      <td>229.726730</td>\n",
       "    </tr>\n",
       "    <tr>\n",
       "      <th>4</th>\n",
       "      <td>2021-03-03</td>\n",
       "      <td>AAPL</td>\n",
       "      <td>124.809998</td>\n",
       "      <td>125.709999</td>\n",
       "      <td>121.839996</td>\n",
       "      <td>122.059998</td>\n",
       "      <td>112966300</td>\n",
       "      <td>120.608208</td>\n",
       "    </tr>\n",
       "    <tr>\n",
       "      <th>...</th>\n",
       "      <td>...</td>\n",
       "      <td>...</td>\n",
       "      <td>...</td>\n",
       "      <td>...</td>\n",
       "      <td>...</td>\n",
       "      <td>...</td>\n",
       "      <td>...</td>\n",
       "      <td>...</td>\n",
       "    </tr>\n",
       "    <tr>\n",
       "      <th>501</th>\n",
       "      <td>2022-02-24</td>\n",
       "      <td>MSFT</td>\n",
       "      <td>272.510010</td>\n",
       "      <td>295.160004</td>\n",
       "      <td>271.519989</td>\n",
       "      <td>294.589996</td>\n",
       "      <td>56989700</td>\n",
       "      <td>291.728027</td>\n",
       "    </tr>\n",
       "    <tr>\n",
       "      <th>502</th>\n",
       "      <td>2022-02-25</td>\n",
       "      <td>AAPL</td>\n",
       "      <td>163.839996</td>\n",
       "      <td>165.119995</td>\n",
       "      <td>160.869995</td>\n",
       "      <td>164.850006</td>\n",
       "      <td>91974200</td>\n",
       "      <td>163.857407</td>\n",
       "    </tr>\n",
       "    <tr>\n",
       "      <th>503</th>\n",
       "      <td>2022-02-25</td>\n",
       "      <td>MSFT</td>\n",
       "      <td>295.140015</td>\n",
       "      <td>297.630005</td>\n",
       "      <td>291.649994</td>\n",
       "      <td>297.309998</td>\n",
       "      <td>32546700</td>\n",
       "      <td>294.421631</td>\n",
       "    </tr>\n",
       "    <tr>\n",
       "      <th>504</th>\n",
       "      <td>2022-02-28</td>\n",
       "      <td>AAPL</td>\n",
       "      <td>163.059998</td>\n",
       "      <td>165.419998</td>\n",
       "      <td>162.429993</td>\n",
       "      <td>165.119995</td>\n",
       "      <td>95056600</td>\n",
       "      <td>164.125763</td>\n",
       "    </tr>\n",
       "    <tr>\n",
       "      <th>505</th>\n",
       "      <td>2022-02-28</td>\n",
       "      <td>MSFT</td>\n",
       "      <td>294.309998</td>\n",
       "      <td>299.140015</td>\n",
       "      <td>293.000000</td>\n",
       "      <td>298.790009</td>\n",
       "      <td>34627500</td>\n",
       "      <td>295.887268</td>\n",
       "    </tr>\n",
       "  </tbody>\n",
       "</table>\n",
       "<p>506 rows × 8 columns</p>\n",
       "</div>"
      ],
      "text/plain": [
       "          date symbol        open        high         low       close  \\\n",
       "0   2021-03-01   AAPL  123.750000  127.930000  122.790001  127.790001   \n",
       "1   2021-03-01   MSFT  235.899994  237.470001  233.149994  236.940002   \n",
       "2   2021-03-02   AAPL  128.410004  128.720001  125.010002  125.120003   \n",
       "3   2021-03-02   MSFT  237.009995  237.300003  233.449997  233.869995   \n",
       "4   2021-03-03   AAPL  124.809998  125.709999  121.839996  122.059998   \n",
       "..         ...    ...         ...         ...         ...         ...   \n",
       "501 2022-02-24   MSFT  272.510010  295.160004  271.519989  294.589996   \n",
       "502 2022-02-25   AAPL  163.839996  165.119995  160.869995  164.850006   \n",
       "503 2022-02-25   MSFT  295.140015  297.630005  291.649994  297.309998   \n",
       "504 2022-02-28   AAPL  163.059998  165.419998  162.429993  165.119995   \n",
       "505 2022-02-28   MSFT  294.309998  299.140015  293.000000  298.790009   \n",
       "\n",
       "        volume   adj_close  \n",
       "0    116307900  126.270065  \n",
       "1     25324000  232.742340  \n",
       "2    102260900  123.631821  \n",
       "3     22812500  229.726730  \n",
       "4    112966300  120.608208  \n",
       "..         ...         ...  \n",
       "501   56989700  291.728027  \n",
       "502   91974200  163.857407  \n",
       "503   32546700  294.421631  \n",
       "504   95056600  164.125763  \n",
       "505   34627500  295.887268  \n",
       "\n",
       "[506 rows x 8 columns]"
      ]
     },
     "execution_count": 2,
     "metadata": {},
     "output_type": "execute_result"
    }
   ],
   "source": [
    "from pybroker import YFinance\n",
    "\n",
    "yfinance = YFinance()\n",
    "df = yfinance.query(['AAPL', 'MSFT'], start_date='3/1/2021', end_date='3/1/2022')\n",
    "df"
   ]
  },
  {
   "cell_type": "code",
   "execution_count": 2,
   "id": "48311735",
   "metadata": {},
   "outputs": [
    {
     "data": {
      "text/plain": [
       "'/Users/brock/Desktop/2023_projects/ArtificialIntelligence/Part_1_Q-Learning'"
      ]
     },
     "execution_count": 2,
     "metadata": {},
     "output_type": "execute_result"
    }
   ],
   "source": [
    "import os\n",
    "os.getcwd() "
   ]
  },
  {
   "cell_type": "code",
   "execution_count": 1,
   "id": "c25ea112",
   "metadata": {},
   "outputs": [
    {
     "data": {
      "text/plain": [
       "['/Users/brock/Desktop/2023_projects/ArtificialIntelligence/Part_1_Q-Learning',\n",
       " '/Users/brock/opt/anaconda3/lib/python38.zip',\n",
       " '/Users/brock/opt/anaconda3/lib/python3.8',\n",
       " '/Users/brock/opt/anaconda3/lib/python3.8/lib-dynload',\n",
       " '',\n",
       " '/Users/brock/opt/anaconda3/lib/python3.8/site-packages']"
      ]
     },
     "execution_count": 1,
     "metadata": {},
     "output_type": "execute_result"
    }
   ],
   "source": [
    "import sys\n",
    "sys.path"
   ]
  },
  {
   "cell_type": "code",
   "execution_count": null,
   "id": "12570f76",
   "metadata": {},
   "outputs": [],
   "source": []
  }
 ],
 "metadata": {
  "kernelspec": {
   "display_name": "Python 3 (ipykernel)",
   "language": "python",
   "name": "python3"
  },
  "language_info": {
   "codemirror_mode": {
    "name": "ipython",
    "version": 3
   },
   "file_extension": ".py",
   "mimetype": "text/x-python",
   "name": "python",
   "nbconvert_exporter": "python",
   "pygments_lexer": "ipython3",
   "version": "3.9.7"
  }
 },
 "nbformat": 4,
 "nbformat_minor": 5
}
